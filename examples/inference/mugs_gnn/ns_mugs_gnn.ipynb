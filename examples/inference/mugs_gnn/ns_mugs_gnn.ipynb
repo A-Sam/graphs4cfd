version https://git-lfs.github.com/spec/v1
oid sha256:315f967a7d14baf07551d72fded5ef7605e02fbf98794fd604ca7d90b2fd3ba3
size 89252873
