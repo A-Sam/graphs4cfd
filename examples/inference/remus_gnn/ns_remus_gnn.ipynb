version https://git-lfs.github.com/spec/v1
oid sha256:1c32a96072cfbd7b6b00240e8e6ee151b69555306ba453804601266b0336c21d
size 133003808
