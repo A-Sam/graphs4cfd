version https://git-lfs.github.com/spec/v1
oid sha256:f5e1d681328c539ff8b0e6ead76db01c65dec76b17b23223c570073267086cb3
size 89619174
